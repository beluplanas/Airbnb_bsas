{
 "cells": [
  {
   "cell_type": "markdown",
   "metadata": {},
   "source": [
    "## Airbnb Buenos Aires"
   ]
  },
  {
   "cell_type": "markdown",
   "metadata": {},
   "source": [
    "Importing necessary librarys"
   ]
  },
  {
   "cell_type": "code",
   "execution_count": 27,
   "metadata": {},
   "outputs": [],
   "source": [
    "import pandas as pd\n",
    "import numpy as np\n",
    "import seaborn as sns\n",
    "import matplotlib.pyplot as plt"
   ]
  },
  {
   "cell_type": "markdown",
   "metadata": {},
   "source": [
    "Import data"
   ]
  },
  {
   "cell_type": "code",
   "execution_count": 28,
   "metadata": {},
   "outputs": [],
   "source": [
    "df_reviews = pd.read_csv('../raw_data/reviews.csv')\n",
    "df_listings = pd.read_csv('../raw_data/listings.csv')\n",
    "df_reviews_data = pd.read_csv('../raw_data/reviews_data.csv')"
   ]
  },
  {
   "cell_type": "code",
   "execution_count": 29,
   "metadata": {},
   "outputs": [
    {
     "name": "stdout",
     "output_type": "stream",
     "text": [
      "Rows: 334017\n",
      "Columns: 6\n"
     ]
    }
   ],
   "source": [
    "rows=df_reviews_data.shape[0] \n",
    "cols=df_reviews_data.shape[1]\n",
    "print(\"Rows: \" + str(rows))\n",
    "print(\"Columns: \" + str(cols))"
   ]
  },
  {
   "cell_type": "code",
   "execution_count": 30,
   "metadata": {},
   "outputs": [
    {
     "data": {
      "text/html": [
       "<div>\n",
       "<style scoped>\n",
       "    .dataframe tbody tr th:only-of-type {\n",
       "        vertical-align: middle;\n",
       "    }\n",
       "\n",
       "    .dataframe tbody tr th {\n",
       "        vertical-align: top;\n",
       "    }\n",
       "\n",
       "    .dataframe thead th {\n",
       "        text-align: right;\n",
       "    }\n",
       "</style>\n",
       "<table border=\"1\" class=\"dataframe\">\n",
       "  <thead>\n",
       "    <tr style=\"text-align: right;\">\n",
       "      <th></th>\n",
       "      <th>listing_id</th>\n",
       "      <th>id</th>\n",
       "      <th>date</th>\n",
       "      <th>reviewer_id</th>\n",
       "      <th>reviewer_name</th>\n",
       "      <th>comments</th>\n",
       "    </tr>\n",
       "  </thead>\n",
       "  <tbody>\n",
       "    <tr>\n",
       "      <th>92</th>\n",
       "      <td>13095</td>\n",
       "      <td>359897523</td>\n",
       "      <td>2018-12-18</td>\n",
       "      <td>18340895</td>\n",
       "      <td>Erin</td>\n",
       "      <td>Perfect spot to visit Palermo. Ariel and his s...</td>\n",
       "    </tr>\n",
       "    <tr>\n",
       "      <th>105</th>\n",
       "      <td>13097</td>\n",
       "      <td>569753871</td>\n",
       "      <td>2019-11-27</td>\n",
       "      <td>4012966</td>\n",
       "      <td>David</td>\n",
       "      <td>A really charming B&amp;B in a neighborhood filled...</td>\n",
       "    </tr>\n",
       "    <tr>\n",
       "      <th>107</th>\n",
       "      <td>13100</td>\n",
       "      <td>213850710</td>\n",
       "      <td>2017-11-23</td>\n",
       "      <td>159508626</td>\n",
       "      <td>Alan</td>\n",
       "      <td>Gracias</td>\n",
       "    </tr>\n",
       "    <tr>\n",
       "      <th>366</th>\n",
       "      <td>6001119</td>\n",
       "      <td>469360398</td>\n",
       "      <td>2019-06-14</td>\n",
       "      <td>195166790</td>\n",
       "      <td>Geni</td>\n",
       "      <td>El departamento de Elena es un lugar muy lindo...</td>\n",
       "    </tr>\n",
       "    <tr>\n",
       "      <th>404</th>\n",
       "      <td>4894196</td>\n",
       "      <td>490422739</td>\n",
       "      <td>2019-07-18</td>\n",
       "      <td>61086720</td>\n",
       "      <td>Fernando</td>\n",
       "      <td>Excelente lugar, super recomendable para una e...</td>\n",
       "    </tr>\n",
       "    <tr>\n",
       "      <th>...</th>\n",
       "      <td>...</td>\n",
       "      <td>...</td>\n",
       "      <td>...</td>\n",
       "      <td>...</td>\n",
       "      <td>...</td>\n",
       "      <td>...</td>\n",
       "    </tr>\n",
       "    <tr>\n",
       "      <th>333305</th>\n",
       "      <td>571502364088389409</td>\n",
       "      <td>606415731433209155</td>\n",
       "      <td>2022-04-16</td>\n",
       "      <td>163065462</td>\n",
       "      <td>Eliot</td>\n",
       "      <td>Nunca contestó mis mensajes, mucho menos las l...</td>\n",
       "    </tr>\n",
       "    <tr>\n",
       "      <th>333638</th>\n",
       "      <td>29131561</td>\n",
       "      <td>431679512</td>\n",
       "      <td>2019-04-01</td>\n",
       "      <td>242399865</td>\n",
       "      <td>Kevin</td>\n",
       "      <td>Todo excelente, Mercedes una genia y siempre m...</td>\n",
       "    </tr>\n",
       "    <tr>\n",
       "      <th>333729</th>\n",
       "      <td>53706284</td>\n",
       "      <td>605742396991325533</td>\n",
       "      <td>2022-04-15</td>\n",
       "      <td>433353987</td>\n",
       "      <td>Rodrigo</td>\n",
       "      <td>lindo lugar</td>\n",
       "    </tr>\n",
       "    <tr>\n",
       "      <th>333743</th>\n",
       "      <td>649291216311024623</td>\n",
       "      <td>653570719033653983</td>\n",
       "      <td>2022-06-20</td>\n",
       "      <td>246791422</td>\n",
       "      <td>Cynthia</td>\n",
       "      <td>Un departamento hermoso y bien equipado en una...</td>\n",
       "    </tr>\n",
       "    <tr>\n",
       "      <th>333758</th>\n",
       "      <td>15670473</td>\n",
       "      <td>218900342</td>\n",
       "      <td>2017-12-15</td>\n",
       "      <td>42372160</td>\n",
       "      <td>Nick</td>\n",
       "      <td>The place was perfect, check-in was easy, ever...</td>\n",
       "    </tr>\n",
       "  </tbody>\n",
       "</table>\n",
       "<p>1490 rows × 6 columns</p>\n",
       "</div>"
      ],
      "text/plain": [
       "                listing_id                  id        date  reviewer_id  \\\n",
       "92                   13095           359897523  2018-12-18     18340895   \n",
       "105                  13097           569753871  2019-11-27      4012966   \n",
       "107                  13100           213850710  2017-11-23    159508626   \n",
       "366                6001119           469360398  2019-06-14    195166790   \n",
       "404                4894196           490422739  2019-07-18     61086720   \n",
       "...                    ...                 ...         ...          ...   \n",
       "333305  571502364088389409  606415731433209155  2022-04-16    163065462   \n",
       "333638            29131561           431679512  2019-04-01    242399865   \n",
       "333729            53706284  605742396991325533  2022-04-15    433353987   \n",
       "333743  649291216311024623  653570719033653983  2022-06-20    246791422   \n",
       "333758            15670473           218900342  2017-12-15     42372160   \n",
       "\n",
       "       reviewer_name                                           comments  \n",
       "92              Erin  Perfect spot to visit Palermo. Ariel and his s...  \n",
       "105            David  A really charming B&B in a neighborhood filled...  \n",
       "107             Alan                                            Gracias  \n",
       "366             Geni  El departamento de Elena es un lugar muy lindo...  \n",
       "404         Fernando  Excelente lugar, super recomendable para una e...  \n",
       "...              ...                                                ...  \n",
       "333305         Eliot  Nunca contestó mis mensajes, mucho menos las l...  \n",
       "333638         Kevin  Todo excelente, Mercedes una genia y siempre m...  \n",
       "333729       Rodrigo                                        lindo lugar  \n",
       "333743       Cynthia  Un departamento hermoso y bien equipado en una...  \n",
       "333758          Nick  The place was perfect, check-in was easy, ever...  \n",
       "\n",
       "[1490 rows x 6 columns]"
      ]
     },
     "execution_count": 30,
     "metadata": {},
     "output_type": "execute_result"
    }
   ],
   "source": [
    "df_listings.drop_duplicates(subset=['id'], keep=False)\n",
    "df_reviews_data.drop_duplicates(subset=['listing_id'], keep=False)"
   ]
  },
  {
   "cell_type": "markdown",
   "metadata": {},
   "source": [
    "Setting the id as index"
   ]
  },
  {
   "cell_type": "code",
   "execution_count": 31,
   "metadata": {},
   "outputs": [],
   "source": [
    "df_listings = df_listings.rename(columns={'id':'listing_id'})\n",
    "df_listings =df_listings.set_index('listing_id')\n",
    "df_reviews = df_reviews.set_index('listing_id')\n",
    "df_reviews_data = df_reviews_data.set_index('listing_id')"
   ]
  },
  {
   "cell_type": "markdown",
   "metadata": {},
   "source": [
    "Joining both dataframes"
   ]
  },
  {
   "cell_type": "code",
   "execution_count": 32,
   "metadata": {},
   "outputs": [],
   "source": [
    "merged_df = df_listings.join(df_reviews_data)"
   ]
  },
  {
   "cell_type": "code",
   "execution_count": 33,
   "metadata": {},
   "outputs": [
    {
     "data": {
      "text/html": [
       "<div>\n",
       "<style scoped>\n",
       "    .dataframe tbody tr th:only-of-type {\n",
       "        vertical-align: middle;\n",
       "    }\n",
       "\n",
       "    .dataframe tbody tr th {\n",
       "        vertical-align: top;\n",
       "    }\n",
       "\n",
       "    .dataframe thead th {\n",
       "        text-align: right;\n",
       "    }\n",
       "</style>\n",
       "<table border=\"1\" class=\"dataframe\">\n",
       "  <thead>\n",
       "    <tr style=\"text-align: right;\">\n",
       "      <th></th>\n",
       "      <th>name</th>\n",
       "      <th>host_id</th>\n",
       "      <th>host_name</th>\n",
       "      <th>neighbourhood_group</th>\n",
       "      <th>neighbourhood</th>\n",
       "      <th>latitude</th>\n",
       "      <th>longitude</th>\n",
       "      <th>room_type</th>\n",
       "      <th>price</th>\n",
       "      <th>minimum_nights</th>\n",
       "      <th>...</th>\n",
       "      <th>reviews_per_month</th>\n",
       "      <th>calculated_host_listings_count</th>\n",
       "      <th>availability_365</th>\n",
       "      <th>number_of_reviews_ltm</th>\n",
       "      <th>license</th>\n",
       "      <th>id</th>\n",
       "      <th>date</th>\n",
       "      <th>reviewer_id</th>\n",
       "      <th>reviewer_name</th>\n",
       "      <th>comments</th>\n",
       "    </tr>\n",
       "    <tr>\n",
       "      <th>listing_id</th>\n",
       "      <th></th>\n",
       "      <th></th>\n",
       "      <th></th>\n",
       "      <th></th>\n",
       "      <th></th>\n",
       "      <th></th>\n",
       "      <th></th>\n",
       "      <th></th>\n",
       "      <th></th>\n",
       "      <th></th>\n",
       "      <th></th>\n",
       "      <th></th>\n",
       "      <th></th>\n",
       "      <th></th>\n",
       "      <th></th>\n",
       "      <th></th>\n",
       "      <th></th>\n",
       "      <th></th>\n",
       "      <th></th>\n",
       "      <th></th>\n",
       "      <th></th>\n",
       "    </tr>\n",
       "  </thead>\n",
       "  <tbody>\n",
       "    <tr>\n",
       "      <th>11508</th>\n",
       "      <td>Amazing Luxurious Apt-Palermo Soho</td>\n",
       "      <td>42762</td>\n",
       "      <td>Candela</td>\n",
       "      <td>NaN</td>\n",
       "      <td>Palermo</td>\n",
       "      <td>-34.58184</td>\n",
       "      <td>-58.42415</td>\n",
       "      <td>Entire home/apt</td>\n",
       "      <td>8010</td>\n",
       "      <td>2</td>\n",
       "      <td>...</td>\n",
       "      <td>0.22</td>\n",
       "      <td>1</td>\n",
       "      <td>292</td>\n",
       "      <td>0</td>\n",
       "      <td>NaN</td>\n",
       "      <td>1615861.0</td>\n",
       "      <td>2012-07-02</td>\n",
       "      <td>877808.0</td>\n",
       "      <td>Charlie</td>\n",
       "      <td>Amazing place!\\r&lt;br/&gt;\\r&lt;br/&gt;Location: short wa...</td>\n",
       "    </tr>\n",
       "    <tr>\n",
       "      <th>11508</th>\n",
       "      <td>Amazing Luxurious Apt-Palermo Soho</td>\n",
       "      <td>42762</td>\n",
       "      <td>Candela</td>\n",
       "      <td>NaN</td>\n",
       "      <td>Palermo</td>\n",
       "      <td>-34.58184</td>\n",
       "      <td>-58.42415</td>\n",
       "      <td>Entire home/apt</td>\n",
       "      <td>8010</td>\n",
       "      <td>2</td>\n",
       "      <td>...</td>\n",
       "      <td>0.22</td>\n",
       "      <td>1</td>\n",
       "      <td>292</td>\n",
       "      <td>0</td>\n",
       "      <td>NaN</td>\n",
       "      <td>3157005.0</td>\n",
       "      <td>2012-12-26</td>\n",
       "      <td>656077.0</td>\n",
       "      <td>Shaily</td>\n",
       "      <td>Really enjoyed Candela's recommendations and q...</td>\n",
       "    </tr>\n",
       "    <tr>\n",
       "      <th>11508</th>\n",
       "      <td>Amazing Luxurious Apt-Palermo Soho</td>\n",
       "      <td>42762</td>\n",
       "      <td>Candela</td>\n",
       "      <td>NaN</td>\n",
       "      <td>Palermo</td>\n",
       "      <td>-34.58184</td>\n",
       "      <td>-58.42415</td>\n",
       "      <td>Entire home/apt</td>\n",
       "      <td>8010</td>\n",
       "      <td>2</td>\n",
       "      <td>...</td>\n",
       "      <td>0.22</td>\n",
       "      <td>1</td>\n",
       "      <td>292</td>\n",
       "      <td>0</td>\n",
       "      <td>NaN</td>\n",
       "      <td>3281011.0</td>\n",
       "      <td>2013-01-05</td>\n",
       "      <td>2835998.0</td>\n",
       "      <td>Michiel</td>\n",
       "      <td>Candela and her colleague were very attentive ...</td>\n",
       "    </tr>\n",
       "    <tr>\n",
       "      <th>11508</th>\n",
       "      <td>Amazing Luxurious Apt-Palermo Soho</td>\n",
       "      <td>42762</td>\n",
       "      <td>Candela</td>\n",
       "      <td>NaN</td>\n",
       "      <td>Palermo</td>\n",
       "      <td>-34.58184</td>\n",
       "      <td>-58.42415</td>\n",
       "      <td>Entire home/apt</td>\n",
       "      <td>8010</td>\n",
       "      <td>2</td>\n",
       "      <td>...</td>\n",
       "      <td>0.22</td>\n",
       "      <td>1</td>\n",
       "      <td>292</td>\n",
       "      <td>0</td>\n",
       "      <td>NaN</td>\n",
       "      <td>6050019.0</td>\n",
       "      <td>2013-07-28</td>\n",
       "      <td>4600436.0</td>\n",
       "      <td>Tara</td>\n",
       "      <td>The apartment was in a beautiful, modern build...</td>\n",
       "    </tr>\n",
       "    <tr>\n",
       "      <th>11508</th>\n",
       "      <td>Amazing Luxurious Apt-Palermo Soho</td>\n",
       "      <td>42762</td>\n",
       "      <td>Candela</td>\n",
       "      <td>NaN</td>\n",
       "      <td>Palermo</td>\n",
       "      <td>-34.58184</td>\n",
       "      <td>-58.42415</td>\n",
       "      <td>Entire home/apt</td>\n",
       "      <td>8010</td>\n",
       "      <td>2</td>\n",
       "      <td>...</td>\n",
       "      <td>0.22</td>\n",
       "      <td>1</td>\n",
       "      <td>292</td>\n",
       "      <td>0</td>\n",
       "      <td>NaN</td>\n",
       "      <td>9328455.0</td>\n",
       "      <td>2013-12-22</td>\n",
       "      <td>3130017.0</td>\n",
       "      <td>Simon</td>\n",
       "      <td>My stay at Candela's apartment was very enjoya...</td>\n",
       "    </tr>\n",
       "  </tbody>\n",
       "</table>\n",
       "<p>5 rows × 22 columns</p>\n",
       "</div>"
      ],
      "text/plain": [
       "                                          name  host_id host_name  \\\n",
       "listing_id                                                          \n",
       "11508       Amazing Luxurious Apt-Palermo Soho    42762   Candela   \n",
       "11508       Amazing Luxurious Apt-Palermo Soho    42762   Candela   \n",
       "11508       Amazing Luxurious Apt-Palermo Soho    42762   Candela   \n",
       "11508       Amazing Luxurious Apt-Palermo Soho    42762   Candela   \n",
       "11508       Amazing Luxurious Apt-Palermo Soho    42762   Candela   \n",
       "\n",
       "            neighbourhood_group neighbourhood  latitude  longitude  \\\n",
       "listing_id                                                           \n",
       "11508                       NaN       Palermo -34.58184  -58.42415   \n",
       "11508                       NaN       Palermo -34.58184  -58.42415   \n",
       "11508                       NaN       Palermo -34.58184  -58.42415   \n",
       "11508                       NaN       Palermo -34.58184  -58.42415   \n",
       "11508                       NaN       Palermo -34.58184  -58.42415   \n",
       "\n",
       "                  room_type  price  minimum_nights  ...  reviews_per_month  \\\n",
       "listing_id                                          ...                      \n",
       "11508       Entire home/apt   8010               2  ...               0.22   \n",
       "11508       Entire home/apt   8010               2  ...               0.22   \n",
       "11508       Entire home/apt   8010               2  ...               0.22   \n",
       "11508       Entire home/apt   8010               2  ...               0.22   \n",
       "11508       Entire home/apt   8010               2  ...               0.22   \n",
       "\n",
       "           calculated_host_listings_count  availability_365  \\\n",
       "listing_id                                                    \n",
       "11508                                   1               292   \n",
       "11508                                   1               292   \n",
       "11508                                   1               292   \n",
       "11508                                   1               292   \n",
       "11508                                   1               292   \n",
       "\n",
       "            number_of_reviews_ltm  license         id        date  \\\n",
       "listing_id                                                          \n",
       "11508                           0      NaN  1615861.0  2012-07-02   \n",
       "11508                           0      NaN  3157005.0  2012-12-26   \n",
       "11508                           0      NaN  3281011.0  2013-01-05   \n",
       "11508                           0      NaN  6050019.0  2013-07-28   \n",
       "11508                           0      NaN  9328455.0  2013-12-22   \n",
       "\n",
       "            reviewer_id reviewer_name  \\\n",
       "listing_id                              \n",
       "11508          877808.0       Charlie   \n",
       "11508          656077.0        Shaily   \n",
       "11508         2835998.0       Michiel   \n",
       "11508         4600436.0          Tara   \n",
       "11508         3130017.0         Simon   \n",
       "\n",
       "                                                     comments  \n",
       "listing_id                                                     \n",
       "11508       Amazing place!\\r<br/>\\r<br/>Location: short wa...  \n",
       "11508       Really enjoyed Candela's recommendations and q...  \n",
       "11508       Candela and her colleague were very attentive ...  \n",
       "11508       The apartment was in a beautiful, modern build...  \n",
       "11508       My stay at Candela's apartment was very enjoya...  \n",
       "\n",
       "[5 rows x 22 columns]"
      ]
     },
     "execution_count": 33,
     "metadata": {},
     "output_type": "execute_result"
    }
   ],
   "source": [
    "merged_df.head(5)"
   ]
  },
  {
   "cell_type": "markdown",
   "metadata": {},
   "source": [
    "Droping columns that are useless"
   ]
  },
  {
   "cell_type": "code",
   "execution_count": 34,
   "metadata": {},
   "outputs": [],
   "source": [
    "airbnb = merged_df.drop(columns = ['neighbourhood_group','latitude','longitude','license','host_name'])"
   ]
  },
  {
   "cell_type": "markdown",
   "metadata": {},
   "source": [
    "Exploring and fixing data"
   ]
  },
  {
   "cell_type": "code",
   "execution_count": 35,
   "metadata": {},
   "outputs": [
    {
     "data": {
      "text/plain": [
       "comments                          3540\n",
       "last_review                       3527\n",
       "reviewer_name                     3527\n",
       "reviewer_id                       3527\n",
       "date                              3527\n",
       "id                                3527\n",
       "reviews_per_month                 3527\n",
       "name                                 4\n",
       "number_of_reviews                    0\n",
       "host_id                              0\n",
       "calculated_host_listings_count       0\n",
       "availability_365                     0\n",
       "number_of_reviews_ltm                0\n",
       "minimum_nights                       0\n",
       "price                                0\n",
       "room_type                            0\n",
       "neighbourhood                        0\n",
       "dtype: int64"
      ]
     },
     "execution_count": 35,
     "metadata": {},
     "output_type": "execute_result"
    }
   ],
   "source": [
    "#Managing null\n",
    "airbnb.isnull().sum().sort_values(ascending=False)"
   ]
  },
  {
   "cell_type": "code",
   "execution_count": 36,
   "metadata": {},
   "outputs": [
    {
     "data": {
      "text/plain": [
       "host_id                              0\n",
       "neighbourhood                        0\n",
       "room_type                            0\n",
       "price                                0\n",
       "minimum_nights                       0\n",
       "number_of_reviews                    0\n",
       "calculated_host_listings_count       0\n",
       "availability_365                     0\n",
       "number_of_reviews_ltm                0\n",
       "name                                 4\n",
       "reviewer_id                       3527\n",
       "date                              3527\n",
       "reviews_per_month                 3527\n",
       "reviewer_name                     3527\n",
       "last_review                       3527\n",
       "id                                3527\n",
       "comments                          3540\n",
       "dtype: int64"
      ]
     },
     "execution_count": 36,
     "metadata": {},
     "output_type": "execute_result"
    }
   ],
   "source": [
    "#Managing Nan  \n",
    "airbnb.isna().sum().sort_values()\n"
   ]
  },
  {
   "cell_type": "code",
   "execution_count": 37,
   "metadata": {},
   "outputs": [],
   "source": [
    "airbnb['comments'].fillna('no comments',inplace=True)\n",
    "airbnb['reviewer_name'].fillna('no name',inplace=True)\n",
    "airbnb['reviewer_id'].fillna('no name',inplace=True)\n",
    "airbnb['comments'].fillna('no comment',inplace=True)\n",
    "airbnb['date'].fillna('no comment',inplace=True)"
   ]
  },
  {
   "cell_type": "code",
   "execution_count": 38,
   "metadata": {},
   "outputs": [],
   "source": [
    "airbnb.fillna('0',inplace=True) "
   ]
  },
  {
   "cell_type": "code",
   "execution_count": 39,
   "metadata": {},
   "outputs": [
    {
     "name": "stdout",
     "output_type": "stream",
     "text": [
      "Rows: 337544\n",
      "Columns: 17\n"
     ]
    }
   ],
   "source": [
    "rows=airbnb.shape[0] \n",
    "cols=airbnb.shape[1]\n",
    "print(\"Rows: \" + str(rows))\n",
    "print(\"Columns: \" + str(cols))\n"
   ]
  },
  {
   "cell_type": "code",
   "execution_count": 40,
   "metadata": {},
   "outputs": [
    {
     "data": {
      "text/html": [
       "<div>\n",
       "<style scoped>\n",
       "    .dataframe tbody tr th:only-of-type {\n",
       "        vertical-align: middle;\n",
       "    }\n",
       "\n",
       "    .dataframe tbody tr th {\n",
       "        vertical-align: top;\n",
       "    }\n",
       "\n",
       "    .dataframe thead th {\n",
       "        text-align: right;\n",
       "    }\n",
       "</style>\n",
       "<table border=\"1\" class=\"dataframe\">\n",
       "  <thead>\n",
       "    <tr style=\"text-align: right;\">\n",
       "      <th></th>\n",
       "      <th>name</th>\n",
       "      <th>host_id</th>\n",
       "      <th>neighbourhood</th>\n",
       "      <th>room_type</th>\n",
       "      <th>price</th>\n",
       "      <th>minimum_nights</th>\n",
       "      <th>number_of_reviews</th>\n",
       "      <th>last_review</th>\n",
       "      <th>reviews_per_month</th>\n",
       "      <th>calculated_host_listings_count</th>\n",
       "      <th>Days_not_booked</th>\n",
       "      <th>number_of_reviews_ltm</th>\n",
       "      <th>id</th>\n",
       "      <th>date</th>\n",
       "      <th>reviewer_id</th>\n",
       "      <th>reviewer_name</th>\n",
       "      <th>comments</th>\n",
       "    </tr>\n",
       "    <tr>\n",
       "      <th>listing_id</th>\n",
       "      <th></th>\n",
       "      <th></th>\n",
       "      <th></th>\n",
       "      <th></th>\n",
       "      <th></th>\n",
       "      <th></th>\n",
       "      <th></th>\n",
       "      <th></th>\n",
       "      <th></th>\n",
       "      <th></th>\n",
       "      <th></th>\n",
       "      <th></th>\n",
       "      <th></th>\n",
       "      <th></th>\n",
       "      <th></th>\n",
       "      <th></th>\n",
       "      <th></th>\n",
       "    </tr>\n",
       "  </thead>\n",
       "  <tbody>\n",
       "    <tr>\n",
       "      <th>13095</th>\n",
       "      <td>Standard Room at Palermo Viejo B&amp;B w pvt Bath</td>\n",
       "      <td>50994</td>\n",
       "      <td>Palermo</td>\n",
       "      <td>Private room</td>\n",
       "      <td>5693</td>\n",
       "      <td>1</td>\n",
       "      <td>1</td>\n",
       "      <td>2018-12-18</td>\n",
       "      <td>0.02</td>\n",
       "      <td>7</td>\n",
       "      <td>364</td>\n",
       "      <td>0</td>\n",
       "      <td>359897523.0</td>\n",
       "      <td>2018-12-18</td>\n",
       "      <td>18340895.0</td>\n",
       "      <td>Erin</td>\n",
       "      <td>Perfect spot to visit Palermo. Ariel and his s...</td>\n",
       "    </tr>\n",
       "    <tr>\n",
       "      <th>13096</th>\n",
       "      <td>Standard Room in Palermo Viejo B&amp;B</td>\n",
       "      <td>50994</td>\n",
       "      <td>Palermo</td>\n",
       "      <td>Private room</td>\n",
       "      <td>5693</td>\n",
       "      <td>1</td>\n",
       "      <td>0</td>\n",
       "      <td>0</td>\n",
       "      <td>0</td>\n",
       "      <td>7</td>\n",
       "      <td>365</td>\n",
       "      <td>0</td>\n",
       "      <td>0</td>\n",
       "      <td>no comment</td>\n",
       "      <td>no name</td>\n",
       "      <td>no name</td>\n",
       "      <td>no comments</td>\n",
       "    </tr>\n",
       "    <tr>\n",
       "      <th>13097</th>\n",
       "      <td>Standard Room at Palermo Viejo B&amp;B pvt bath</td>\n",
       "      <td>50994</td>\n",
       "      <td>Palermo</td>\n",
       "      <td>Private room</td>\n",
       "      <td>5693</td>\n",
       "      <td>1</td>\n",
       "      <td>1</td>\n",
       "      <td>2019-11-27</td>\n",
       "      <td>0.03</td>\n",
       "      <td>7</td>\n",
       "      <td>365</td>\n",
       "      <td>0</td>\n",
       "      <td>569753871.0</td>\n",
       "      <td>2019-11-27</td>\n",
       "      <td>4012966.0</td>\n",
       "      <td>David</td>\n",
       "      <td>A really charming B&amp;B in a neighborhood filled...</td>\n",
       "    </tr>\n",
       "    <tr>\n",
       "      <th>13099</th>\n",
       "      <td>Lofty room in Palermo Viejo B&amp;B pvt bath</td>\n",
       "      <td>50994</td>\n",
       "      <td>Palermo</td>\n",
       "      <td>Private room</td>\n",
       "      <td>6391</td>\n",
       "      <td>1</td>\n",
       "      <td>0</td>\n",
       "      <td>0</td>\n",
       "      <td>0</td>\n",
       "      <td>7</td>\n",
       "      <td>365</td>\n",
       "      <td>0</td>\n",
       "      <td>0</td>\n",
       "      <td>no comment</td>\n",
       "      <td>no name</td>\n",
       "      <td>no name</td>\n",
       "      <td>no comments</td>\n",
       "    </tr>\n",
       "    <tr>\n",
       "      <th>13100</th>\n",
       "      <td>Master Room in Palermo Viejo B&amp;B w  pvt Bath</td>\n",
       "      <td>50994</td>\n",
       "      <td>Palermo</td>\n",
       "      <td>Private room</td>\n",
       "      <td>7553</td>\n",
       "      <td>1</td>\n",
       "      <td>1</td>\n",
       "      <td>2017-11-23</td>\n",
       "      <td>0.02</td>\n",
       "      <td>7</td>\n",
       "      <td>365</td>\n",
       "      <td>0</td>\n",
       "      <td>213850710.0</td>\n",
       "      <td>2017-11-23</td>\n",
       "      <td>159508626.0</td>\n",
       "      <td>Alan</td>\n",
       "      <td>Gracias</td>\n",
       "    </tr>\n",
       "    <tr>\n",
       "      <th>...</th>\n",
       "      <td>...</td>\n",
       "      <td>...</td>\n",
       "      <td>...</td>\n",
       "      <td>...</td>\n",
       "      <td>...</td>\n",
       "      <td>...</td>\n",
       "      <td>...</td>\n",
       "      <td>...</td>\n",
       "      <td>...</td>\n",
       "      <td>...</td>\n",
       "      <td>...</td>\n",
       "      <td>...</td>\n",
       "      <td>...</td>\n",
       "      <td>...</td>\n",
       "      <td>...</td>\n",
       "      <td>...</td>\n",
       "      <td>...</td>\n",
       "    </tr>\n",
       "    <tr>\n",
       "      <th>653658043982791227</th>\n",
       "      <td>Unique home in the heart of Palermo</td>\n",
       "      <td>137090771</td>\n",
       "      <td>Palermo</td>\n",
       "      <td>Entire home/apt</td>\n",
       "      <td>9436</td>\n",
       "      <td>5</td>\n",
       "      <td>0</td>\n",
       "      <td>0</td>\n",
       "      <td>0</td>\n",
       "      <td>2</td>\n",
       "      <td>178</td>\n",
       "      <td>0</td>\n",
       "      <td>0</td>\n",
       "      <td>no comment</td>\n",
       "      <td>no name</td>\n",
       "      <td>no name</td>\n",
       "      <td>no comments</td>\n",
       "    </tr>\n",
       "    <tr>\n",
       "      <th>653662459361579364</th>\n",
       "      <td>HERMOSO DEPARTAMENTO EN PALERMO,  BALCON,2 /3 PAX</td>\n",
       "      <td>49480723</td>\n",
       "      <td>Palermo</td>\n",
       "      <td>Entire home/apt</td>\n",
       "      <td>6162</td>\n",
       "      <td>1</td>\n",
       "      <td>0</td>\n",
       "      <td>0</td>\n",
       "      <td>0</td>\n",
       "      <td>34</td>\n",
       "      <td>365</td>\n",
       "      <td>0</td>\n",
       "      <td>0</td>\n",
       "      <td>no comment</td>\n",
       "      <td>no name</td>\n",
       "      <td>no name</td>\n",
       "      <td>no comments</td>\n",
       "    </tr>\n",
       "    <tr>\n",
       "      <th>653672799237838844</th>\n",
       "      <td>Hermoso Departamento Nuevo en Belgrano (2C)</td>\n",
       "      <td>117955293</td>\n",
       "      <td>Belgrano</td>\n",
       "      <td>Entire home/apt</td>\n",
       "      <td>3450</td>\n",
       "      <td>12</td>\n",
       "      <td>0</td>\n",
       "      <td>0</td>\n",
       "      <td>0</td>\n",
       "      <td>9</td>\n",
       "      <td>147</td>\n",
       "      <td>0</td>\n",
       "      <td>0</td>\n",
       "      <td>no comment</td>\n",
       "      <td>no name</td>\n",
       "      <td>no name</td>\n",
       "      <td>no comments</td>\n",
       "    </tr>\n",
       "    <tr>\n",
       "      <th>653680625522136322</th>\n",
       "      <td>Duplex Divino en Las Cañitas, Palermo.</td>\n",
       "      <td>172846042</td>\n",
       "      <td>Palermo</td>\n",
       "      <td>Entire home/apt</td>\n",
       "      <td>4560</td>\n",
       "      <td>2</td>\n",
       "      <td>0</td>\n",
       "      <td>0</td>\n",
       "      <td>0</td>\n",
       "      <td>1</td>\n",
       "      <td>336</td>\n",
       "      <td>0</td>\n",
       "      <td>0</td>\n",
       "      <td>no comment</td>\n",
       "      <td>no name</td>\n",
       "      <td>no name</td>\n",
       "      <td>no comments</td>\n",
       "    </tr>\n",
       "    <tr>\n",
       "      <th>653721977905087998</th>\n",
       "      <td>Hermoso dto. súper luminoso en Avellaneda centro</td>\n",
       "      <td>207226821</td>\n",
       "      <td>Barracas</td>\n",
       "      <td>Entire home/apt</td>\n",
       "      <td>2465</td>\n",
       "      <td>2</td>\n",
       "      <td>0</td>\n",
       "      <td>0</td>\n",
       "      <td>0</td>\n",
       "      <td>3</td>\n",
       "      <td>293</td>\n",
       "      <td>0</td>\n",
       "      <td>0</td>\n",
       "      <td>no comment</td>\n",
       "      <td>no name</td>\n",
       "      <td>no name</td>\n",
       "      <td>no comments</td>\n",
       "    </tr>\n",
       "  </tbody>\n",
       "</table>\n",
       "<p>4731 rows × 17 columns</p>\n",
       "</div>"
      ],
      "text/plain": [
       "                                                                 name  \\\n",
       "listing_id                                                              \n",
       "13095                   Standard Room at Palermo Viejo B&B w pvt Bath   \n",
       "13096                              Standard Room in Palermo Viejo B&B   \n",
       "13097                     Standard Room at Palermo Viejo B&B pvt bath   \n",
       "13099                        Lofty room in Palermo Viejo B&B pvt bath   \n",
       "13100                    Master Room in Palermo Viejo B&B w  pvt Bath   \n",
       "...                                                               ...   \n",
       "653658043982791227                Unique home in the heart of Palermo   \n",
       "653662459361579364  HERMOSO DEPARTAMENTO EN PALERMO,  BALCON,2 /3 PAX   \n",
       "653672799237838844        Hermoso Departamento Nuevo en Belgrano (2C)   \n",
       "653680625522136322             Duplex Divino en Las Cañitas, Palermo.   \n",
       "653721977905087998   Hermoso dto. súper luminoso en Avellaneda centro   \n",
       "\n",
       "                      host_id neighbourhood        room_type  price  \\\n",
       "listing_id                                                            \n",
       "13095                   50994       Palermo     Private room   5693   \n",
       "13096                   50994       Palermo     Private room   5693   \n",
       "13097                   50994       Palermo     Private room   5693   \n",
       "13099                   50994       Palermo     Private room   6391   \n",
       "13100                   50994       Palermo     Private room   7553   \n",
       "...                       ...           ...              ...    ...   \n",
       "653658043982791227  137090771       Palermo  Entire home/apt   9436   \n",
       "653662459361579364   49480723       Palermo  Entire home/apt   6162   \n",
       "653672799237838844  117955293      Belgrano  Entire home/apt   3450   \n",
       "653680625522136322  172846042       Palermo  Entire home/apt   4560   \n",
       "653721977905087998  207226821      Barracas  Entire home/apt   2465   \n",
       "\n",
       "                    minimum_nights  number_of_reviews last_review  \\\n",
       "listing_id                                                          \n",
       "13095                            1                  1  2018-12-18   \n",
       "13096                            1                  0           0   \n",
       "13097                            1                  1  2019-11-27   \n",
       "13099                            1                  0           0   \n",
       "13100                            1                  1  2017-11-23   \n",
       "...                            ...                ...         ...   \n",
       "653658043982791227               5                  0           0   \n",
       "653662459361579364               1                  0           0   \n",
       "653672799237838844              12                  0           0   \n",
       "653680625522136322               2                  0           0   \n",
       "653721977905087998               2                  0           0   \n",
       "\n",
       "                   reviews_per_month  calculated_host_listings_count  \\\n",
       "listing_id                                                             \n",
       "13095                           0.02                               7   \n",
       "13096                              0                               7   \n",
       "13097                           0.03                               7   \n",
       "13099                              0                               7   \n",
       "13100                           0.02                               7   \n",
       "...                              ...                             ...   \n",
       "653658043982791227                 0                               2   \n",
       "653662459361579364                 0                              34   \n",
       "653672799237838844                 0                               9   \n",
       "653680625522136322                 0                               1   \n",
       "653721977905087998                 0                               3   \n",
       "\n",
       "                    Days_not_booked  number_of_reviews_ltm           id  \\\n",
       "listing_id                                                                \n",
       "13095                           364                      0  359897523.0   \n",
       "13096                           365                      0            0   \n",
       "13097                           365                      0  569753871.0   \n",
       "13099                           365                      0            0   \n",
       "13100                           365                      0  213850710.0   \n",
       "...                             ...                    ...          ...   \n",
       "653658043982791227              178                      0            0   \n",
       "653662459361579364              365                      0            0   \n",
       "653672799237838844              147                      0            0   \n",
       "653680625522136322              336                      0            0   \n",
       "653721977905087998              293                      0            0   \n",
       "\n",
       "                          date  reviewer_id reviewer_name  \\\n",
       "listing_id                                                  \n",
       "13095               2018-12-18   18340895.0          Erin   \n",
       "13096               no comment      no name       no name   \n",
       "13097               2019-11-27    4012966.0         David   \n",
       "13099               no comment      no name       no name   \n",
       "13100               2017-11-23  159508626.0          Alan   \n",
       "...                        ...          ...           ...   \n",
       "653658043982791227  no comment      no name       no name   \n",
       "653662459361579364  no comment      no name       no name   \n",
       "653672799237838844  no comment      no name       no name   \n",
       "653680625522136322  no comment      no name       no name   \n",
       "653721977905087998  no comment      no name       no name   \n",
       "\n",
       "                                                             comments  \n",
       "listing_id                                                             \n",
       "13095               Perfect spot to visit Palermo. Ariel and his s...  \n",
       "13096                                                     no comments  \n",
       "13097               A really charming B&B in a neighborhood filled...  \n",
       "13099                                                     no comments  \n",
       "13100                                                         Gracias  \n",
       "...                                                               ...  \n",
       "653658043982791227                                        no comments  \n",
       "653662459361579364                                        no comments  \n",
       "653672799237838844                                        no comments  \n",
       "653680625522136322                                        no comments  \n",
       "653721977905087998                                        no comments  \n",
       "\n",
       "[4731 rows x 17 columns]"
      ]
     },
     "execution_count": 40,
     "metadata": {},
     "output_type": "execute_result"
    }
   ],
   "source": [
    "#Renaming and droping duplicates\n",
    "airbnb.rename(columns={'availability_365':'Days_not_booked'},inplace=True)  \n",
    "airbnb.drop_duplicates(subset=['name'], keep=False)"
   ]
  },
  {
   "cell_type": "code",
   "execution_count": 41,
   "metadata": {},
   "outputs": [
    {
     "data": {
      "text/plain": [
       "name                              object\n",
       "host_id                            int64\n",
       "neighbourhood                     object\n",
       "room_type                         object\n",
       "price                              int64\n",
       "minimum_nights                     int64\n",
       "number_of_reviews                  int64\n",
       "last_review                       object\n",
       "reviews_per_month                 object\n",
       "calculated_host_listings_count     int64\n",
       "Days_not_booked                    int64\n",
       "number_of_reviews_ltm              int64\n",
       "id                                object\n",
       "date                              object\n",
       "reviewer_id                       object\n",
       "reviewer_name                     object\n",
       "comments                          object\n",
       "dtype: object"
      ]
     },
     "execution_count": 41,
     "metadata": {},
     "output_type": "execute_result"
    }
   ],
   "source": [
    "airbnb.dtypes"
   ]
  },
  {
   "cell_type": "markdown",
   "metadata": {},
   "source": [
    "Which are the neighbourhoods that are more expensive?\n"
   ]
  },
  {
   "cell_type": "code",
   "execution_count": 42,
   "metadata": {},
   "outputs": [
    {
     "data": {
      "image/png": "[encoded data removed]",
      "text/plain": [
       "<Figure size 432x288 with 1 Axes>"
      ]
     },
     "metadata": {
      "needs_background": "light"
     },
     "output_type": "display_data"
    }
   ],
   "source": [
    "group_neigh= airbnb['price'].groupby(airbnb['neighbourhood']).mean().sort_values(ascending=False)\n",
    "top8 = group_neigh.head(8)\n",
    "top8.plot.bar(ylabel='price', title=\"Prices in each neighbourhood\", color='blue');"
   ]
  },
  {
   "cell_type": "markdown",
   "metadata": {},
   "source": [
    "How many bookings had each neighbourhood?"
   ]
  },
  {
   "cell_type": "code",
   "execution_count": 43,
   "metadata": {},
   "outputs": [
    {
     "data": {
      "text/plain": [
       "neighbourhood\n",
       "Belgrano     1844258\n",
       "Balvanera    1475007\n",
       "Almagro      1264817\n",
       "Caballito     519837\n",
       "Barracas      147947\n",
       "Boedo         135985\n",
       "Boca          109228\n",
       "Agronomia      33770\n",
       "Name: Days_booked, dtype: int64"
      ]
     },
     "execution_count": 43,
     "metadata": {},
     "output_type": "execute_result"
    }
   ],
   "source": [
    "#Adding a column that calculate the days that are booked:\n",
    "airbnb['Days_booked']= (airbnb['Days_not_booked']-365)*-1\n",
    "#Grouping by neighbourhood and calculating de mean of the days that are not rented throughout a year \n",
    "airbnb_booked=airbnb.groupby(['neighbourhood']).sum().head(8)\n",
    "airbnb_booked['Days_booked'].sort_values(ascending=False)\n"
   ]
  },
  {
   "cell_type": "markdown",
   "metadata": {},
   "source": [
    "How many listings has the neighbourhoods more popular?"
   ]
  },
  {
   "cell_type": "code",
   "execution_count": 44,
   "metadata": {},
   "outputs": [
    {
     "data": {
      "text/html": [
       "<div>\n",
       "<style scoped>\n",
       "    .dataframe tbody tr th:only-of-type {\n",
       "        vertical-align: middle;\n",
       "    }\n",
       "\n",
       "    .dataframe tbody tr th {\n",
       "        vertical-align: top;\n",
       "    }\n",
       "\n",
       "    .dataframe thead th {\n",
       "        text-align: right;\n",
       "    }\n",
       "</style>\n",
       "<table border=\"1\" class=\"dataframe\">\n",
       "  <thead>\n",
       "    <tr style=\"text-align: right;\">\n",
       "      <th></th>\n",
       "      <th>Listings</th>\n",
       "      <th>Neighbourhood</th>\n",
       "    </tr>\n",
       "  </thead>\n",
       "  <tbody>\n",
       "    <tr>\n",
       "      <th>0</th>\n",
       "      <td>142572</td>\n",
       "      <td>Palermo</td>\n",
       "    </tr>\n",
       "    <tr>\n",
       "      <th>1</th>\n",
       "      <td>54694</td>\n",
       "      <td>Recoleta</td>\n",
       "    </tr>\n",
       "    <tr>\n",
       "      <th>2</th>\n",
       "      <td>23880</td>\n",
       "      <td>San Nicolas</td>\n",
       "    </tr>\n",
       "  </tbody>\n",
       "</table>\n",
       "</div>"
      ],
      "text/plain": [
       "   Listings Neighbourhood\n",
       "0    142572       Palermo\n",
       "1     54694      Recoleta\n",
       "2     23880   San Nicolas"
      ]
     },
     "execution_count": 44,
     "metadata": {},
     "output_type": "execute_result"
    }
   ],
   "source": [
    "top_3_neigh = pd.DataFrame(airbnb['neighbourhood'].value_counts().head(3))\n",
    "top_3_neigh.columns=['Listings']\n",
    "top_3_neigh['Neighbourhood'] = top_3_neigh.index\n",
    "top_3_neigh.reset_index(drop=True, inplace=True)\n",
    "top_3_neigh"
   ]
  },
  {
   "cell_type": "code",
   "execution_count": 45,
   "metadata": {},
   "outputs": [
    {
     "data": {
      "text/plain": [
       "<matplotlib.legend.Legend at 0x7f1eefab6d90>"
      ]
     },
     "execution_count": 45,
     "metadata": {},
     "output_type": "execute_result"
    },
    {
     "data": {
      "image/png": "[encoded data removed]",
      "text/plain": [
       "<Figure size 864x432 with 1 Axes>"
      ]
     },
     "metadata": {
      "needs_background": "light"
     },
     "output_type": "display_data"
    }
   ],
   "source": [
    "# Visualisation 1 - Neighbourhood groups with counts with category room_type\n",
    "some_neigh=airbnb.loc[airbnb['neighbourhood'].isin(['Recoleta','Palermo','San Nicolas'])]\n",
    "plt.figure(figsize=(12,6))\n",
    "sns.countplot(data=some_neigh, x='neighbourhood', hue='room_type', palette='GnBu_d')\n",
    "plt.title('Counts of airbnb in neighbourhoods with room type category', fontsize=11)\n",
    "plt.xlabel('Neighbourhood')\n",
    "plt.ylabel(\"Count\")\n",
    "plt.legend(frameon=False, fontsize=12)"
   ]
  },
  {
   "cell_type": "code",
   "execution_count": 46,
   "metadata": {},
   "outputs": [
    {
     "data": {
      "text/plain": [
       "Text(0, 0.5, 'Price')"
      ]
     },
     "execution_count": 46,
     "metadata": {},
     "output_type": "execute_result"
    },
    {
     "data": {
      "image/png": "[encoded data removed]",
      "text/plain": [
       "<Figure size 1080x432 with 1 Axes>"
      ]
     },
     "metadata": {
      "needs_background": "light"
     },
     "output_type": "display_data"
    }
   ],
   "source": [
    "plt.figure(figsize=(15,6))\n",
    "data=airbnb.loc[airbnb['neighbourhood'].isin(['Recoleta','Palermo','San Nicolas','Coghlan'])]\n",
    "sns.violinplot(data=data[data.price <10500], x='neighbourhood', y='price', palette='GnBu_d')\n",
    "plt.title('Density and distribution of prices for each neighbourhood', fontsize=15)\n",
    "plt.xlabel('Neighbourhood')\n",
    "plt.ylabel(\"Price\")"
   ]
  },
  {
   "cell_type": "code",
   "execution_count": 47,
   "metadata": {},
   "outputs": [
    {
     "name": "stderr",
     "output_type": "stream",
     "text": [
      "/home/beluplanas/.pyenv/versions/3.8.12/envs/lewagon/lib/python3.8/site-packages/seaborn/distributions.py:2619: FutureWarning: `distplot` is a deprecated function and will be removed in a future version. Please adapt your code to use either `displot` (a figure-level function with similar flexibility) or `histplot` (an axes-level function for histograms).\n",
      "  warnings.warn(msg, FutureWarning)\n"
     ]
    },
    {
     "data": {
      "text/plain": [
       "Text(0, 0.5, 'Frequency')"
      ]
     },
     "execution_count": 47,
     "metadata": {},
     "output_type": "execute_result"
    },
    {
     "data": {
      "image/png": "[encoded data removed]",
      "text/plain": [
       "<Figure size 1080x432 with 1 Axes>"
      ]
     },
     "metadata": {
      "needs_background": "light"
     },
     "output_type": "display_data"
    }
   ],
   "source": [
    "# Visualisation 5 - availability in year\n",
    "\n",
    "plt.figure(figsize=(15,6))\n",
    "sns.distplot(airbnb.Days_booked, kde=False)\n",
    "plt.xlim(0,365)\n",
    "plt.title('Availability in year', fontsize=15)\n",
    "plt.xlabel('Availibility')\n",
    "plt.ylabel(\"Frequency\")"
   ]
  },
  {
   "cell_type": "markdown",
   "metadata": {},
   "source": [
    "Correlation between values"
   ]
  },
  {
   "cell_type": "code",
   "execution_count": 48,
   "metadata": {},
   "outputs": [
    {
     "data": {
      "text/plain": [
       "<AxesSubplot:>"
      ]
     },
     "execution_count": 48,
     "metadata": {},
     "output_type": "execute_result"
    },
    {
     "data": {
      "image/png": "[encoded data removed]",
      "text/plain": [
       "<Figure size 1080x576 with 2 Axes>"
      ]
     },
     "metadata": {
      "needs_background": "light"
     },
     "output_type": "display_data"
    }
   ],
   "source": [
    "plt.figure(figsize=(15,8))\n",
    "sns.heatmap(airbnb.corr(), annot=True, linewidths=0.1, cmap='Reds')"
   ]
  },
  {
   "cell_type": "markdown",
   "metadata": {},
   "source": [
    "How much the price increase depending of the type of the room?"
   ]
  },
  {
   "cell_type": "code",
   "execution_count": 49,
   "metadata": {},
   "outputs": [
    {
     "data": {
      "text/plain": [
       "room_type\n",
       "Hotel room         23590.357500\n",
       "Entire home/apt     6906.327892\n",
       "Shared room         5779.836007\n",
       "Private room        3352.440067\n",
       "Name: price, dtype: float64"
      ]
     },
     "execution_count": 49,
     "metadata": {},
     "output_type": "execute_result"
    }
   ],
   "source": [
    "airbnb_type=airbnb.groupby(airbnb['room_type']).mean().head(8)\n",
    "airbnb_type['price'].sort_values(ascending=False)\n"
   ]
  },
  {
   "cell_type": "markdown",
   "metadata": {},
   "source": [
    "🏨 are the most expensive one! thats why we always stay in airbnbs!"
   ]
  },
  {
   "cell_type": "markdown",
   "metadata": {},
   "source": [
    "Relation between days rented and amount of reviews. Does people care about the amount of reviews?"
   ]
  },
  {
   "cell_type": "code",
   "execution_count": 50,
   "metadata": {},
   "outputs": [
    {
     "ename": "ValueError",
     "evalue": "Could not interpret input 'amount_reviews'",
     "output_type": "error",
     "traceback": [
      "\u001b[0;31m---------------------------------------------------------------------------\u001b[0m",
      "\u001b[0;31mValueError\u001b[0m                                Traceback (most recent call last)",
      "\u001b[0;32m/tmp/ipykernel_8210/2994348061.py\u001b[0m in \u001b[0;36m<module>\u001b[0;34m\u001b[0m\n\u001b[1;32m      1\u001b[0m \u001b[0mairbnb\u001b[0m\u001b[0;34m.\u001b[0m\u001b[0mrename\u001b[0m\u001b[0;34m(\u001b[0m\u001b[0mcolumns\u001b[0m\u001b[0;34m=\u001b[0m\u001b[0;34m{\u001b[0m\u001b[0;34m'number_of_reviews_ltm'\u001b[0m\u001b[0;34m:\u001b[0m\u001b[0;34m'amount_reviews'\u001b[0m\u001b[0;34m}\u001b[0m\u001b[0;34m,\u001b[0m\u001b[0minplace\u001b[0m\u001b[0;34m=\u001b[0m\u001b[0;32mTrue\u001b[0m\u001b[0;34m)\u001b[0m\u001b[0;34m\u001b[0m\u001b[0;34m\u001b[0m\u001b[0m\n\u001b[0;32m----> 2\u001b[0;31m \u001b[0msns\u001b[0m\u001b[0;34m.\u001b[0m\u001b[0mboxplot\u001b[0m\u001b[0;34m(\u001b[0m\u001b[0mx\u001b[0m\u001b[0;34m=\u001b[0m\u001b[0;34m'amount_reviews'\u001b[0m\u001b[0;34m,\u001b[0m \u001b[0my\u001b[0m\u001b[0;34m=\u001b[0m\u001b[0;34m'Days_booked'\u001b[0m\u001b[0;34m,\u001b[0m \u001b[0mdata\u001b[0m\u001b[0;34m=\u001b[0m\u001b[0msome_neigh\u001b[0m\u001b[0;34m)\u001b[0m\u001b[0;34m\u001b[0m\u001b[0;34m\u001b[0m\u001b[0m\n\u001b[0m",
      "\u001b[0;32m~/.pyenv/versions/3.8.12/envs/lewagon/lib/python3.8/site-packages/seaborn/_decorators.py\u001b[0m in \u001b[0;36minner_f\u001b[0;34m(*args, **kwargs)\u001b[0m\n\u001b[1;32m     44\u001b[0m             )\n\u001b[1;32m     45\u001b[0m         \u001b[0mkwargs\u001b[0m\u001b[0;34m.\u001b[0m\u001b[0mupdate\u001b[0m\u001b[0;34m(\u001b[0m\u001b[0;34m{\u001b[0m\u001b[0mk\u001b[0m\u001b[0;34m:\u001b[0m \u001b[0marg\u001b[0m \u001b[0;32mfor\u001b[0m \u001b[0mk\u001b[0m\u001b[0;34m,\u001b[0m \u001b[0marg\u001b[0m \u001b[0;32min\u001b[0m \u001b[0mzip\u001b[0m\u001b[0;34m(\u001b[0m\u001b[0msig\u001b[0m\u001b[0;34m.\u001b[0m\u001b[0mparameters\u001b[0m\u001b[0;34m,\u001b[0m \u001b[0margs\u001b[0m\u001b[0;34m)\u001b[0m\u001b[0;34m}\u001b[0m\u001b[0;34m)\u001b[0m\u001b[0;34m\u001b[0m\u001b[0;34m\u001b[0m\u001b[0m\n\u001b[0;32m---> 46\u001b[0;31m         \u001b[0;32mreturn\u001b[0m \u001b[0mf\u001b[0m\u001b[0;34m(\u001b[0m\u001b[0;34m**\u001b[0m\u001b[0mkwargs\u001b[0m\u001b[0;34m)\u001b[0m\u001b[0;34m\u001b[0m\u001b[0;34m\u001b[0m\u001b[0m\n\u001b[0m\u001b[1;32m     47\u001b[0m     \u001b[0;32mreturn\u001b[0m \u001b[0minner_f\u001b[0m\u001b[0;34m\u001b[0m\u001b[0;34m\u001b[0m\u001b[0m\n\u001b[1;32m     48\u001b[0m \u001b[0;34m\u001b[0m\u001b[0m\n",
      "\u001b[0;32m~/.pyenv/versions/3.8.12/envs/lewagon/lib/python3.8/site-packages/seaborn/categorical.py\u001b[0m in \u001b[0;36mboxplot\u001b[0;34m(x, y, hue, data, order, hue_order, orient, color, palette, saturation, width, dodge, fliersize, linewidth, whis, ax, **kwargs)\u001b[0m\n\u001b[1;32m   2241\u001b[0m ):\n\u001b[1;32m   2242\u001b[0m \u001b[0;34m\u001b[0m\u001b[0m\n\u001b[0;32m-> 2243\u001b[0;31m     plotter = _BoxPlotter(x, y, hue, data, order, hue_order,\n\u001b[0m\u001b[1;32m   2244\u001b[0m                           \u001b[0morient\u001b[0m\u001b[0;34m,\u001b[0m \u001b[0mcolor\u001b[0m\u001b[0;34m,\u001b[0m \u001b[0mpalette\u001b[0m\u001b[0;34m,\u001b[0m \u001b[0msaturation\u001b[0m\u001b[0;34m,\u001b[0m\u001b[0;34m\u001b[0m\u001b[0;34m\u001b[0m\u001b[0m\n\u001b[1;32m   2245\u001b[0m                           width, dodge, fliersize, linewidth)\n",
      "\u001b[0;32m~/.pyenv/versions/3.8.12/envs/lewagon/lib/python3.8/site-packages/seaborn/categorical.py\u001b[0m in \u001b[0;36m__init__\u001b[0;34m(self, x, y, hue, data, order, hue_order, orient, color, palette, saturation, width, dodge, fliersize, linewidth)\u001b[0m\n\u001b[1;32m    404\u001b[0m                  width, dodge, fliersize, linewidth):\n\u001b[1;32m    405\u001b[0m \u001b[0;34m\u001b[0m\u001b[0m\n\u001b[0;32m--> 406\u001b[0;31m         \u001b[0mself\u001b[0m\u001b[0;34m.\u001b[0m\u001b[0mestablish_variables\u001b[0m\u001b[0;34m(\u001b[0m\u001b[0mx\u001b[0m\u001b[0;34m,\u001b[0m \u001b[0my\u001b[0m\u001b[0;34m,\u001b[0m \u001b[0mhue\u001b[0m\u001b[0;34m,\u001b[0m \u001b[0mdata\u001b[0m\u001b[0;34m,\u001b[0m \u001b[0morient\u001b[0m\u001b[0;34m,\u001b[0m \u001b[0morder\u001b[0m\u001b[0;34m,\u001b[0m \u001b[0mhue_order\u001b[0m\u001b[0;34m)\u001b[0m\u001b[0;34m\u001b[0m\u001b[0;34m\u001b[0m\u001b[0m\n\u001b[0m\u001b[1;32m    407\u001b[0m         \u001b[0mself\u001b[0m\u001b[0;34m.\u001b[0m\u001b[0mestablish_colors\u001b[0m\u001b[0;34m(\u001b[0m\u001b[0mcolor\u001b[0m\u001b[0;34m,\u001b[0m \u001b[0mpalette\u001b[0m\u001b[0;34m,\u001b[0m \u001b[0msaturation\u001b[0m\u001b[0;34m)\u001b[0m\u001b[0;34m\u001b[0m\u001b[0;34m\u001b[0m\u001b[0m\n\u001b[1;32m    408\u001b[0m \u001b[0;34m\u001b[0m\u001b[0m\n",
      "\u001b[0;32m~/.pyenv/versions/3.8.12/envs/lewagon/lib/python3.8/site-packages/seaborn/categorical.py\u001b[0m in \u001b[0;36mestablish_variables\u001b[0;34m(self, x, y, hue, data, orient, order, hue_order, units)\u001b[0m\n\u001b[1;32m    151\u001b[0m                 \u001b[0;32mif\u001b[0m \u001b[0misinstance\u001b[0m\u001b[0;34m(\u001b[0m\u001b[0mvar\u001b[0m\u001b[0;34m,\u001b[0m \u001b[0mstr\u001b[0m\u001b[0;34m)\u001b[0m\u001b[0;34m:\u001b[0m\u001b[0;34m\u001b[0m\u001b[0;34m\u001b[0m\u001b[0m\n\u001b[1;32m    152\u001b[0m                     \u001b[0merr\u001b[0m \u001b[0;34m=\u001b[0m \u001b[0;34m\"Could not interpret input '{}'\"\u001b[0m\u001b[0;34m.\u001b[0m\u001b[0mformat\u001b[0m\u001b[0;34m(\u001b[0m\u001b[0mvar\u001b[0m\u001b[0;34m)\u001b[0m\u001b[0;34m\u001b[0m\u001b[0;34m\u001b[0m\u001b[0m\n\u001b[0;32m--> 153\u001b[0;31m                     \u001b[0;32mraise\u001b[0m \u001b[0mValueError\u001b[0m\u001b[0;34m(\u001b[0m\u001b[0merr\u001b[0m\u001b[0;34m)\u001b[0m\u001b[0;34m\u001b[0m\u001b[0;34m\u001b[0m\u001b[0m\n\u001b[0m\u001b[1;32m    154\u001b[0m \u001b[0;34m\u001b[0m\u001b[0m\n\u001b[1;32m    155\u001b[0m             \u001b[0;31m# Figure out the plotting orientation\u001b[0m\u001b[0;34m\u001b[0m\u001b[0;34m\u001b[0m\u001b[0;34m\u001b[0m\u001b[0m\n",
      "\u001b[0;31mValueError\u001b[0m: Could not interpret input 'amount_reviews'"
     ]
    }
   ],
   "source": [
    "airbnb.rename(columns={'number_of_reviews_ltm':'amount_reviews'},inplace=True)  \n",
    "sns.boxplot(x='amount_reviews', y='Days_booked', data=some_neigh)"
   ]
  },
  {
   "cell_type": "code",
   "execution_count": null,
   "metadata": {},
   "outputs": [],
   "source": [
    "airbnb_others = airbnb.loc[(airbnb.neighbourhood!= 'Recoleta')]"
   ]
  },
  {
   "cell_type": "markdown",
   "metadata": {},
   "source": [
    "Lets make a 🔎 to Recoleta that we are more interested in:"
   ]
  },
  {
   "cell_type": "code",
   "execution_count": null,
   "metadata": {},
   "outputs": [],
   "source": [
    "#Create a special Dataframe only with Recoleta\n",
    "airbnb_recoleta = airbnb.loc[(airbnb.neighbourhood== 'Recoleta')]"
   ]
  },
  {
   "cell_type": "markdown",
   "metadata": {},
   "source": [
    "First, lest check how many competition do we have:"
   ]
  },
  {
   "cell_type": "code",
   "execution_count": null,
   "metadata": {},
   "outputs": [
    {
     "data": {
      "text/plain": [
       "54694"
      ]
     },
     "execution_count": 26,
     "metadata": {},
     "output_type": "execute_result"
    }
   ],
   "source": [
    "len(airbnb_recoleta)"
   ]
  },
  {
   "cell_type": "markdown",
   "metadata": {},
   "source": [
    "There are 54.694 different airbnbs en Recoleta! 🥴\n",
    "And the average price is 6.258$"
   ]
  },
  {
   "cell_type": "code",
   "execution_count": null,
   "metadata": {},
   "outputs": [
    {
     "data": {
      "text/plain": [
       "6258.534117087797"
      ]
     },
     "execution_count": 27,
     "metadata": {},
     "output_type": "execute_result"
    }
   ],
   "source": [
    "airbnb_recoleta['price'].mean()"
   ]
  },
  {
   "cell_type": "markdown",
   "metadata": {},
   "source": [
    "Lets get a little bit more info about the price:"
   ]
  },
  {
   "cell_type": "code",
   "execution_count": null,
   "metadata": {},
   "outputs": [
    {
     "data": {
      "text/html": [
       "<div>\n",
       "<style scoped>\n",
       "    .dataframe tbody tr th:only-of-type {\n",
       "        vertical-align: middle;\n",
       "    }\n",
       "\n",
       "    .dataframe tbody tr th {\n",
       "        vertical-align: top;\n",
       "    }\n",
       "\n",
       "    .dataframe thead th {\n",
       "        text-align: right;\n",
       "    }\n",
       "</style>\n",
       "<table border=\"1\" class=\"dataframe\">\n",
       "  <thead>\n",
       "    <tr style=\"text-align: right;\">\n",
       "      <th></th>\n",
       "      <th>Price</th>\n",
       "      <th>Availability in a year</th>\n",
       "    </tr>\n",
       "  </thead>\n",
       "  <tbody>\n",
       "    <tr>\n",
       "      <th>count</th>\n",
       "      <td>5.469400e+04</td>\n",
       "      <td>54694.000000</td>\n",
       "    </tr>\n",
       "    <tr>\n",
       "      <th>mean</th>\n",
       "      <td>6.258534e+03</td>\n",
       "      <td>166.727392</td>\n",
       "    </tr>\n",
       "    <tr>\n",
       "      <th>std</th>\n",
       "      <td>1.035788e+04</td>\n",
       "      <td>112.342287</td>\n",
       "    </tr>\n",
       "    <tr>\n",
       "      <th>min</th>\n",
       "      <td>4.000000e+02</td>\n",
       "      <td>0.000000</td>\n",
       "    </tr>\n",
       "    <tr>\n",
       "      <th>25%</th>\n",
       "      <td>3.697000e+03</td>\n",
       "      <td>54.000000</td>\n",
       "    </tr>\n",
       "    <tr>\n",
       "      <th>50%</th>\n",
       "      <td>4.683000e+03</td>\n",
       "      <td>171.000000</td>\n",
       "    </tr>\n",
       "    <tr>\n",
       "      <th>75%</th>\n",
       "      <td>6.162000e+03</td>\n",
       "      <td>268.000000</td>\n",
       "    </tr>\n",
       "    <tr>\n",
       "      <th>max</th>\n",
       "      <td>1.232317e+06</td>\n",
       "      <td>365.000000</td>\n",
       "    </tr>\n",
       "  </tbody>\n",
       "</table>\n",
       "</div>"
      ],
      "text/plain": [
       "              Price  Availability in a year\n",
       "count  5.469400e+04            54694.000000\n",
       "mean   6.258534e+03              166.727392\n",
       "std    1.035788e+04              112.342287\n",
       "min    4.000000e+02                0.000000\n",
       "25%    3.697000e+03               54.000000\n",
       "50%    4.683000e+03              171.000000\n",
       "75%    6.162000e+03              268.000000\n",
       "max    1.232317e+06              365.000000"
      ]
     },
     "execution_count": 28,
     "metadata": {},
     "output_type": "execute_result"
    }
   ],
   "source": [
    "average_price_ava = pd.DataFrame(airbnb_recoleta[['price', 'Days_booked']].describe())\n",
    "average_price_ava.columns=['Price', 'Availability in a year']\n",
    "average_price_ava"
   ]
  },
  {
   "cell_type": "markdown",
   "metadata": {},
   "source": [
    "Now that we have information about the price, lets find out what people like the most. We will see what people say in their comments:"
   ]
  },
  {
   "cell_type": "code",
   "execution_count": null,
   "metadata": {},
   "outputs": [],
   "source": [
    "#Specific imports\n",
    "from nltk.corpus import stopwords\n",
    "import spacy\n",
    "import gensim\n",
    "import gensim.corpora as corpora\n",
    "from gensim.utils import simple_preprocess\n",
    "import nltk"
   ]
  },
  {
   "cell_type": "code",
   "execution_count": null,
   "metadata": {},
   "outputs": [
    {
     "ename": "NameError",
     "evalue": "name 'airbnb_recoleta' is not defined",
     "output_type": "error",
     "traceback": [
      "\u001b[0;31m---------------------------------------------------------------------------\u001b[0m",
      "\u001b[0;31mNameError\u001b[0m                                 Traceback (most recent call last)",
      "\u001b[0;32m/tmp/ipykernel_8210/2755847782.py\u001b[0m in \u001b[0;36m<module>\u001b[0;34m\u001b[0m\n\u001b[0;32m----> 1\u001b[0;31m \u001b[0mcomments\u001b[0m \u001b[0;34m=\u001b[0m \u001b[0mairbnb_recoleta\u001b[0m\u001b[0;34m.\u001b[0m\u001b[0mloc\u001b[0m\u001b[0;34m[\u001b[0m\u001b[0mairbnb_recoleta\u001b[0m\u001b[0;34m[\u001b[0m\u001b[0;34m'comments'\u001b[0m\u001b[0;34m]\u001b[0m \u001b[0;34m!=\u001b[0m \u001b[0;34m'no comments'\u001b[0m\u001b[0;34m]\u001b[0m\u001b[0;34m[\u001b[0m\u001b[0;34m'comments'\u001b[0m\u001b[0;34m]\u001b[0m\u001b[0;34m\u001b[0m\u001b[0;34m\u001b[0m\u001b[0m\n\u001b[0m\u001b[1;32m      2\u001b[0m \u001b[0mstopwords\u001b[0m \u001b[0;34m=\u001b[0m \u001b[0mstopwords\u001b[0m\u001b[0;34m.\u001b[0m\u001b[0mwords\u001b[0m\u001b[0;34m(\u001b[0m\u001b[0;34m'english'\u001b[0m\u001b[0;34m)\u001b[0m\u001b[0;34m\u001b[0m\u001b[0;34m\u001b[0m\u001b[0m\n\u001b[1;32m      3\u001b[0m \u001b[0mignore_words\u001b[0m \u001b[0;34m=\u001b[0m \u001b[0;34m[\u001b[0m\u001b[0;34m'names'\u001b[0m\u001b[0;34m]\u001b[0m\u001b[0;34m\u001b[0m\u001b[0;34m\u001b[0m\u001b[0m\n",
      "\u001b[0;31mNameError\u001b[0m: name 'airbnb_recoleta' is not defined"
     ]
    }
   ],
   "source": [
    "comments = airbnb_recoleta.loc[airbnb_recoleta['comments'] != 'no comments']['comments']\n",
    "stopwords = stopwords.words('english')\n",
    "ignore_words = ['names']"
   ]
  },
  {
   "cell_type": "code",
   "execution_count": null,
   "metadata": {},
   "outputs": [],
   "source": [
    "def comentarios(texts):\n",
    "    final = []\n",
    "    for text in texts:\n",
    "        new = gensim.utils.simple_preprocess(text, deacc=True)\n",
    "        final_words = [word for word in new if not word in ignore_words]\n",
    "        final.append(final_words)\n",
    "    return (final)"
   ]
  },
  {
   "cell_type": "code",
   "execution_count": null,
   "metadata": {},
   "outputs": [],
   "source": [
    "def lemmatization(texts, allowed_postags=[\"ADJ\"]):\n",
    "    nlp = spacy.load(\"en_core_web_sm\", disable=[\"parser\", \"ner\"])\n",
    "    texts_out = []\n",
    "    for text in texts:\n",
    "        doc = nlp(text)\n",
    "        new_text = []\n",
    "        for token in doc:\n",
    "            if token.pos_ in allowed_postags:\n",
    "                new_text.append(token.lemma_)\n",
    "        final = \" \".join(new_text)\n",
    "        texts_out.append(final)\n",
    "    return (texts_out)"
   ]
  },
  {
   "cell_type": "code",
   "execution_count": null,
   "metadata": {},
   "outputs": [],
   "source": [
    "lemma_comments= lemmatization(comments)\n",
    "nltk.FreqDist(lemma_comments.words())"
   ]
  }
 ],
 "metadata": {
  "kernelspec": {
   "display_name": "Python 3.8.12 64-bit ('lewagon')",
   "language": "python",
   "name": "python3"
  },
  "language_info": {
   "codemirror_mode": {
    "name": "ipython",
    "version": 3
   },
   "file_extension": ".py",
   "mimetype": "text/x-python",
   "name": "python",
   "nbconvert_exporter": "python",
   "pygments_lexer": "ipython3",
   "version": "3.8.12"
  },
  "orig_nbformat": 4,
  "vscode": {
   "interpreter": {
    "hash": "1b78f0a6b9dc6b02609382349f6fa7d5b49cc4f1a1d5c56840bc20e10f6c6cb2"
   }
  }
 },
 "nbformat": 4,
 "nbformat_minor": 2
}
